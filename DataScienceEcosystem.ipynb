{
 "cells": [
  {
   "cell_type": "markdown",
   "id": "3d43f659",
   "metadata": {},
   "source": [
    "# Data Science Tools and Ecosystem"
   ]
  },
  {
   "cell_type": "markdown",
   "id": "3db60351",
   "metadata": {},
   "source": [
    "Here various Tools and Ecosystem for Data Science are discussed. "
   ]
  },
  {
   "cell_type": "markdown",
   "id": "9c5a7bc3",
   "metadata": {},
   "source": [
    "**OBJECTIVES** :\n",
    "* List popular Data Science Languages\n",
    "* List commonly used libraries in Data Science\n",
    "* List Data Science Tools\n",
    "* Evaluate arithmetic operations in Python"
   ]
  },
  {
   "cell_type": "markdown",
   "id": "d48830ba",
   "metadata": {},
   "source": [
    "Some of the most popular languages in Data Science are:\n",
    "1. Python\n",
    "2. R\n",
    "3. SQL\n",
    "4. Scala\n",
    "5. Julia"
   ]
  },
  {
   "cell_type": "markdown",
   "id": "d9a41205",
   "metadata": {},
   "source": [
    "Here is a list of some of the most commonly used libraries by Data Scientists:\n",
    "1. Pandas\n",
    "2. NumPy\n",
    "3. PyTorch\n",
    "4. SciPy\n",
    "5. Matplotlib"
   ]
  },
  {
   "cell_type": "markdown",
   "id": "947d2188",
   "metadata": {},
   "source": [
    "|Data Science Tools|\n",
    "|:----------------:|\n",
    "|Jupyter Notebook|\n",
    "|RStudio|\n",
    "|Zeppelin Notebook|"
   ]
  },
  {
   "cell_type": "markdown",
   "id": "faae1082",
   "metadata": {},
   "source": [
    "### For evaluating arithmetic expressions in Python:"
   ]
  },
  {
   "cell_type": "code",
   "execution_count": 1,
   "id": "1ee71248",
   "metadata": {},
   "outputs": [
    {
     "data": {
      "text/plain": [
       "17"
      ]
     },
     "execution_count": 1,
     "metadata": {},
     "output_type": "execute_result"
    }
   ],
   "source": [
    "#to multiply and then add integers:\n",
    "(3*4)+5"
   ]
  },
  {
   "cell_type": "code",
   "execution_count": 3,
   "id": "e04387f4",
   "metadata": {},
   "outputs": [
    {
     "data": {
      "text/plain": [
       "3.3333333333333335"
      ]
     },
     "execution_count": 3,
     "metadata": {},
     "output_type": "execute_result"
    }
   ],
   "source": [
    "#to convert 200 minutes to hours, divide by 60;\n",
    "200/60"
   ]
  },
  {
   "cell_type": "markdown",
   "id": "f054fd7a",
   "metadata": {},
   "source": [
    "## Author\n",
    "Sahitya Tripathy"
   ]
  },
  {
   "cell_type": "code",
   "execution_count": null,
   "id": "032db6af",
   "metadata": {},
   "outputs": [],
   "source": []
  }
 ],
 "metadata": {
  "kernelspec": {
   "display_name": "Python 3 (ipykernel)",
   "language": "python",
   "name": "python3"
  },
  "language_info": {
   "codemirror_mode": {
    "name": "ipython",
    "version": 3
   },
   "file_extension": ".py",
   "mimetype": "text/x-python",
   "name": "python",
   "nbconvert_exporter": "python",
   "pygments_lexer": "ipython3",
   "version": "3.11.5"
  }
 },
 "nbformat": 4,
 "nbformat_minor": 5
}
